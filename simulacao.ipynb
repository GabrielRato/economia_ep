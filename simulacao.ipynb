{
  "cells": [
    {
      "metadata": {
        "_uuid": "71d07bdd2f7df24fa67a37ebe98ea53aa8e27e76"
      },
      "cell_type": "markdown",
      "source": "**EP ECON**\n\nAo longo desse trabalho serão apresentados gráficos e no final uma simulação, os gráficos podem são fornecer interação, sinta-se a vontade para exportar, mexer nos eixos, esconder curvas etc."
    },
    {
      "metadata": {
        "_uuid": "8f2839f25d086af736a60e9eeb907d3b93b6e0e5",
        "_cell_guid": "b1076dfc-b9ad-4769-8c92-a6c4dae69d19",
        "trusted": true,
        "scrolled": true,
        "collapsed": true
      },
      "cell_type": "code",
      "source": "import plotly.plotly as py\nfrom plotly.offline import init_notebook_mode, iplot\ninit_notebook_mode(connected=True)\n\nfrom plotly.graph_objs import Scatter, Layout, Marker\nimport plotly.graph_objs as go\nimport random\n\n\ndef oferta_demanda():\n\n    # construir parametrizacao random e printar ela descrita\n    # varia de 0 a 10\n    gostos = []\n    for i in range(3):\n        gostos.append(random.randint(0,10))\n    gostos = sorted(gostos)\n    expectativa = 6\n\n    traces = []\n    for b in [0.5, 8]:\n        for index, gosto in enumerate(gostos):\n            delta = (gosto + expectativa)/20.0\n            if b == 8:\n                delta = -1*delta\n            axis_x = []\n            axis_y = []\n            for x in range(10):\n                axis_x.append(x)\n                axis_y.append(b + float(delta*x))\n\n            trace = go.Scatter(\n                x=axis_x,\n                y=axis_y,\n                name = 'Oferta_'+str(index) if b==8 else 'Demanda_'+str(index)\n            )\n            traces.append(trace)\n\n    fig = {\n        \"data\": [trace for trace in traces],\n        \"layout\": Layout(title=\"CURVA OFERTA & DEMANDA\" )\n    }\n\n\n    iplot(fig)\n\noferta_demanda()\n\n\n",
      "execution_count": null,
      "outputs": []
    },
    {
      "metadata": {
        "_cell_guid": "79c7e3d0-c299-4dcb-8224-4455121ee9b0",
        "collapsed": true,
        "_uuid": "d629ff2d2480ee46fbb7e2d37f6b5fab8052498a",
        "trusted": false
      },
      "cell_type": "markdown",
      "source": "Aqui plotei 3 gráficos de oferta e demanda, cada qual dos três com \"gostos\" distintos. \nNo gráfico de oferta e demanda podemos verificar algumas coisas. Aqui fiz apenas a variação na variável \"gosto\", de modo que, é simples perceber que para \"gostos maiores\" ou seja produstos mais desejados o preço mesmo aumentando temos uma demanda que acaba não variando muito. Também é possível notar que o preço de equilibrio é menor para produtos com gosto mais elevado (interseção Demanda/Oferta 2), enquanto a curva 0, menor gosto possível o ponto de equilibrio nem é alcançado."
    },
    {
      "metadata": {
        "_uuid": "94a3e067e94f78923828e0bc02bb68f62004e6d7"
      },
      "cell_type": "markdown",
      "source": "**Elasticidade**\n\nAqui apresento três representações mais conhecidas de elasticidade, todas geradas de modo orgânico."
    },
    {
      "metadata": {
        "trusted": true,
        "_uuid": "08a288b72a8f0e1a0c0c07ece46025f1a010ad72",
        "collapsed": true
      },
      "cell_type": "code",
      "source": "def elasticidade():\n\n    elasticidade = ['simples', 'perfeita_inelastica', 'perfeita_elastica']\n    for ele in elasticidade:\n        axis_x = []\n        traces = []\n        axis_y = []\n\n        # calc a simple demand curve\n        for x in range(10):\n            if ele == 'perfeita_inelastica':\n                axis_x.append(7)\n            elif ele == 'perfeita_elastica':\n                axis_x.append(x*1000)\n            else:\n                axis_x.append(x)\n            axis_y.append(8 - float(2*x))\n\n        trace = go.Scatter(\n            x=axis_x,\n            y=axis_y\n        )\n        traces.append(trace)\n\n        # calc a elasticity curve\n        new_axis_y = []\n        new_axis_x = []\n        for x in range(9):\n            if x % 2 == 1:\n                continue\n            new_axis_x.append(x)\n            elasticity = float(((axis_x[x] - axis_x[x+1])/ (axis_x[x]+axis_x[x+1])/2.0)) \\\n                / float(((axis_y[x] - axis_y[x+1])/ (axis_y[x] + axis_x[x+1]/2.0)))\n\n            new_axis_y.append(elasticity)\n\n        trace = go.Scatter(\n            x=new_axis_x,\n            y=new_axis_y\n\n        )\n        traces.append(trace)\n        fig = {\n            \"data\": [trace for trace in traces],\n            \"layout\": Layout(title=\"CURVA \"+ele.upper() )\n        }\n\n\n        iplot(fig)\nelasticidade()\n",
      "execution_count": null,
      "outputs": []
    },
    {
      "metadata": {
        "_uuid": "627565e7deddcce58abbf3c2139598793413798e"
      },
      "cell_type": "markdown",
      "source": "**PIB Real & Nominal**\n\nAqui reproduzi em uma econômia muito simples, de um produto uma breve análise da influência da variação de preços e a quantidade gerada do mesmo."
    },
    {
      "metadata": {
        "trusted": true,
        "_uuid": "aa873e9e2213e5782603092d0883604e66c82236",
        "collapsed": true
      },
      "cell_type": "code",
      "source": "def pib():\n    anos_dinheiro = {\n        2000 : 100,\n        2001 : 110,\n        2002 : 90,\n        2003 : 105,\n        2004 : 120,\n    }\n    anos_preco = {\n        2000 : 0.55,\n        2001 : 0.6,\n        2002 : 0.7,\n        2003 : 0.45,\n        2004 : 0.8,\n    }\n    traces = []\n\n    for tipo in ['preco_unit (* 100)', 'nominal', 'real']:\n        axis_y = []\n        axis_x = []\n        for ano in anos_dinheiro:\n            if tipo == 'nominal':\n                axis_x.append(ano)\n                axis_y.append(anos_dinheiro[ano])\n            if tipo == 'preco_unit (* 100)':\n                axis_x.append(ano)\n                axis_y.append(anos_preco[ano]*100)\n            if tipo =='real':\n                axis_x.append(ano)\n                axis_y.append(anos_dinheiro[ano]/anos_preco[ano] \\\n                    * anos_preco[2000])\n\n        trace = go.Scatter(\n            x=axis_x,\n            y=axis_y,\n            name = tipo\n        )\n        traces.append(trace)\n\n    fig = {\n        \"data\": [trace for trace in traces],\n        \"layout\": Layout(title=\"CURVA PIB\" )\n    }\n\n    iplot(fig)\n\npib()",
      "execution_count": null,
      "outputs": []
    },
    {
      "metadata": {
        "trusted": true,
        "_uuid": "1a73a85bc49b2fb72e0ee35406af63946337d479",
        "collapsed": true
      },
      "cell_type": "code",
      "source": "def inflacao():\n    anos_dinheiro = {\n        2000 : [100, 100],\n        2001 : [150, 180],\n        2002 : [155, 182],\n        2003 : [165, 190],\n        2004 : [166, 193],\n    }\n    percent = [0.6, 0.4]\n    traces = []\n\n    axis_y = []\n    axis_x = []\n    base = anos_dinheiro[2000][0] * percent[0] + anos_dinheiro[2000][1] * percent[1]\n    for ano in anos_dinheiro:\n        axis_x.append(ano)\n        tot = anos_dinheiro[ano][0]*percent[0] + anos_dinheiro[ano][1]*percent[1]\n        axis_y.append((tot - base))\n    traces = []\n    trace = go.Scatter(\n        x=axis_x,\n        y=axis_y,\n        name = 'Inflacao em %'\n    )\n    traces.append(trace)\n    axis_y1 = []\n    axis_y2 = []\n    for ano in anos_dinheiro:\n        axis_y1.append(anos_dinheiro[ano][0])\n        axis_y2.append(anos_dinheiro[ano][1])\n\n    for index, y in enumerate([axis_y1, axis_y2]):\n        trace = go.Scatter(\n            x=axis_x,\n            y=y,\n            name = 'Produto_'+str(index)\n        )\n        traces.append(trace)\n\n\n    fig = {\n        \"data\": [trace for trace in traces],\n        \"layout\": Layout(title=\"CURVA INFLACAO\" )\n    }\n\n    iplot(fig)\n\ninflacao()",
      "execution_count": null,
      "outputs": []
    },
    {
      "metadata": {
        "_uuid": "4efbb366d4a0ade88a5f202f60166b899b84b8c7"
      },
      "cell_type": "markdown",
      "source": "**Simulção de trocas em uma pequena nação**\n\nVamos começar criando uma população, normal (hipótese não absurda da nossa realidade). Vamos estudar o índice gini e alteração de preços."
    },
    {
      "metadata": {
        "trusted": true,
        "_uuid": "743a9afe943121d9f8689a9f5011ce3b7c60b44e",
        "collapsed": true
      },
      "cell_type": "code",
      "source": "import random\n\n# Tamanho da populacao e media \nN  = 5000 \nMU = 100. \n\npopulation = [random.gauss(mu=MU, sigma=MU/5) for actor in range(N)]\n\ndef gini(y):\n    \" Calculo do indice gini para populacao y\"\n    y = sorted(y)\n    n = len(y)\n    numer = 2 * sum((i+1) * y[i] for i in range(n))\n    denom = n * sum(y)\n    return (numer / denom) - (n + 1) / n\n\n%matplotlib inline\nimport matplotlib.pyplot as plt\n\ndef hist(population, label='pop', **kwargs):\n    \"Histograma para uma populacao\"\n    label = label + ': G=' + str(round(gini(population), 2))\n    h = plt.hist(list(population), bins=30, alpha=0.5, label=label, **kwargs)\n    plt.xlabel('renda'); plt.ylabel('qtd'); plt.grid(True)\n    plt.legend()\nhist(population)\n",
      "execution_count": null,
      "outputs": []
    },
    {
      "metadata": {
        "_uuid": "adb459f08be9a0f0541f900c3d9861e85894a15f"
      },
      "cell_type": "markdown",
      "source": "**Transações**\n\nVamos definir uma transação de modo bem simples como sendo um jogo, onde os dois atores colocam o dinheiro no pote\ne então o valor total é divido randomicamente entre eles."
    },
    {
      "metadata": {
        "trusted": true,
        "_uuid": "c5b0d49f1638a022e07212da87ddff23d70138ad",
        "collapsed": true
      },
      "cell_type": "code",
      "source": "def random_split(A, B):\n    \" Pega todo o dinheiro, insere em um pote e divide randomicamente entre os atores \"\n    pot = A + B\n    share = random.uniform(0, pot)\n    return share, pot - share\nrandom_split(100, 100)\n",
      "execution_count": null,
      "outputs": []
    },
    {
      "metadata": {
        "_uuid": "9754d9327151102fda3a217de63c605f88a8ab88"
      },
      "cell_type": "markdown",
      "source": "**Iterações**\n\nDefinimos como os atores iteragem, de maneira simples, pegamos dois atores da população e fazemos eles transacionar suas rendas.\n"
    },
    {
      "metadata": {
        "trusted": true,
        "collapsed": true,
        "_uuid": "ca105f88d0559e5f90a98513436b40916ebbdd66"
      },
      "cell_type": "code",
      "source": "def anyone(N): return random.sample(range(N), 2)",
      "execution_count": null,
      "outputs": []
    },
    {
      "metadata": {
        "_uuid": "324f50240e002bf2de58f4ff52c1f142d232fe69"
      },
      "cell_type": "markdown",
      "source": "**Simulação**\n\nA função simulação pega uma população inicial, chama  dois atore para interagirem e transacionarem."
    },
    {
      "metadata": {
        "trusted": true,
        "_uuid": "0fcbeddd665b99f0de8d4caf4446aedcf4a2a209",
        "collapsed": true
      },
      "cell_type": "code",
      "source": "def simulate(population, T, transaction=random_split, interaction=anyone):\n    \" Roda uma simulacao sobre uma populacao para T transacoes \"\n\n    population = population.copy()\n    yield population\n    for t in range(1, T + 1):\n        i, j = interaction(len(population))\n        population[i], population[j] = transaction(population[i], population[j]) \n        yield population",
      "execution_count": null,
      "outputs": []
    },
    {
      "metadata": {
        "_uuid": "3a613ecb09c784d07c8c59f02b73f26182e2ecff"
      },
      "cell_type": "markdown",
      "source": "Exemplo:"
    },
    {
      "metadata": {
        "trusted": true,
        "_uuid": "289ad1aa5641ee3704ff7cacc11c266cedece5e9",
        "collapsed": true
      },
      "cell_type": "code",
      "source": "for pop in simulate([100] * 4, 8):\n    print(pop)",
      "execution_count": null,
      "outputs": []
    },
    {
      "metadata": {
        "trusted": true,
        "collapsed": true,
        "_uuid": "02014146f290d9e4cfe91a5e7a035dc4eb04fe7e"
      },
      "cell_type": "code",
      "source": "import statistics\n\ndef show(population, k=40, percentiles=(1, 10, 50, 90, 99), **kwargs):\n    \"Run a simulation for k*N steps, printing statistics and displaying a plot and histogram.\"\n    N = len(population)\n    start = list(population)\n    # Sort results so that percentiles work\n    results = [(t, sorted(pop)) \n               for (t, pop) in enumerate(simulate(population, k * N, **kwargs))\n               if t % (N / 10) == 0]\n    times = [t for (t, pop) in results]\n    \n    # Printout:\n    print('   t    Gini stdev' + (' {:3d}%' * len(percentiles)).format(*percentiles))\n    print('------- ---- -----' + ' ----' * len(percentiles))\n    fmt = '{:7,d} {:.2f} {:5.1f}' + ' {:4.0f}' * len(percentiles)\n    for (t, pop) in results:\n        if t % (4 * N) == 0:\n            data = [percent(pct, pop) for pct in percentiles]\n            print(fmt.format(t, gini(pop), statistics.stdev(pop), *data))\n            \n    # Plot:\n    plt.hold(True); plt.xlabel('renda'); plt.ylabel('iter'); plt.grid(True)\n    for pct in percentiles:\n        line = [percent(pct, pop) for (t, pop) in results]\n        plt.plot(line, times)\n    plt.show()\n    \n    # Histogram:\n    R = (min(pop+start), max(pop+start))\n    hist(start, 'inicio', range=R)\n    hist(pop, 'fim', range=R)\n    \n    return pop\n                \ndef percent(pct, items):\n    \"The item that is pct percent through the sorted list of items.\"\n    return items[min(len(items)-1, len(items) * pct // 100)]",
      "execution_count": null,
      "outputs": []
    },
    {
      "metadata": {
        "trusted": true,
        "_uuid": "e9cc0a478ec8988d2e20e668662ffa13d99a583f",
        "collapsed": true
      },
      "cell_type": "code",
      "source": "pop = show(population)\n",
      "execution_count": null,
      "outputs": []
    },
    {
      "metadata": {
        "_uuid": "bf4e7d7ac1f0404643f6584cff1b0c21198ffe0f"
      },
      "cell_type": "markdown",
      "source": "**Comentários da saída**\n\nO print: Para a população inicial e cada 10.000 transações realizadas, mostramos o indíce Gini e o desvio padrão da população, e a renda para cada um dos 5 primeiros percentils da população (1%, 10%, 50%, 90% e 99%).\n\nO primeiro gráfico: Eles nos aparesenta a mesma informação contida no print, a renda final dos indivíduos em cada percentil, porém com mais pontos no eixo. O azul mais a esquerda é a marcada de 1% e o roxo mais a direita 99%, as linhas representam os percentil em ordem crescente. É fácil verificar que rápidamente os 1% mais ricos (percentil 99%) enriquecem de maneira muito rápida e conforme aproxima-se da transação número 50.000 vai convergindo.\n\nO histograma: Apresenta a população e sua riqueza inicial e final em forma de histograma. \n\nOs resultados estão mostrando que a desigualdade dentro dessa população está aumentando, indíce gini está crescendo, desvio padrão e os pobres ficando mais pobres e os ricos ficando muito ricos. Qual impacto disso sobre outros indicadores da nossa nação teste?\n\nInserir a MAO DO GOVERNO!!! Taxar os ricos e redistribuir a renda de volta na população."
    },
    {
      "metadata": {
        "_uuid": "b5fba2dce494d62782244b43e39559fedd257026"
      },
      "cell_type": "markdown",
      "source": "**Taxações**\n\nVamos tentar melhorar a igualdade na nossa população atráves de políticas de taxações e redistribuição de renda. Vamos começar por taxar os 1% mais ricos e redistribuir essa renda para o resto da população de volta."
    },
    {
      "metadata": {
        "trusted": true,
        "_uuid": "0e0c33f1f89e7e7d01489f56941337725268ecf5",
        "collapsed": true
      },
      "cell_type": "code",
      "source": "ini_pop = pop\nfor ite in range(100):\n    richest =  sorted(pop)[4950:]\n    tax = 0\n    new_richest = []\n    for actor in sorted(richest):\n        new_richest.append(actor * 0.75)\n        tax += actor * 0.25\n\n    pop = pop[:4950] + new_richest\n\n    new_pop = []\n    for actor in pop:\n        actor += tax/len(pop)\n        new_pop.append(actor)\n    pop = new_pop\n\nR = (min(ini_pop+pop), max(ini_pop+pop))\nhist(ini_pop, 'inicio', range=R)\nhist(pop, 'fim', range=R)\n",
      "execution_count": null,
      "outputs": []
    },
    {
      "metadata": {
        "_uuid": "bf76c3769b500b2d9035a8a3c52536311c571b8f"
      },
      "cell_type": "markdown",
      "source": "**Resultados**\n\nPodemos ver que ao aplicar taxações conseguimos melhorar muito nosso indíce Gini, acontece que embora a curva se desloque a direita o formato permance muito semelhante"
    },
    {
      "metadata": {
        "_uuid": "9c2230723e3424f78054eeae0431093457c21d28"
      },
      "cell_type": "markdown",
      "source": ""
    },
    {
      "metadata": {
        "_uuid": "f6f735b951069e46bd499de93f32cb420518db71"
      },
      "cell_type": "markdown",
      "source": ""
    }
  ],
  "metadata": {
    "kernelspec": {
      "display_name": "Python 3",
      "language": "python",
      "name": "python3"
    },
    "language_info": {
      "name": "python",
      "version": "3.6.6",
      "mimetype": "text/x-python",
      "codemirror_mode": {
        "name": "ipython",
        "version": 3
      },
      "pygments_lexer": "ipython3",
      "nbconvert_exporter": "python",
      "file_extension": ".py"
    }
  },
  "nbformat": 4,
  "nbformat_minor": 1
}
