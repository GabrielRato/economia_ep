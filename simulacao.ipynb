
import random

N  = 5000 # Default size of the population
MU = 100. # Default mean of the population

population = [random.gauss(mu=MU, sigma=MU/5) for actor in range(N)]

print population
