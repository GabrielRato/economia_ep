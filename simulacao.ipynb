{
  "cells": [
    {
      "metadata": {
        "_uuid": "71d07bdd2f7df24fa67a37ebe98ea53aa8e27e76"
      },
      "cell_type": "markdown",
      "source": "**EP ECON**\n\nAo longo desse trabalho serão apresentados gráficos e no final uma simulação, os gráficos podem são fornecer interação, sinta-se a vontade para exportar, mexer nos eixos, esconder curvas etc."
    },
    {
      "metadata": {
        "_uuid": "8f2839f25d086af736a60e9eeb907d3b93b6e0e5",
        "_cell_guid": "b1076dfc-b9ad-4769-8c92-a6c4dae69d19",
        "trusted": true,
        "scrolled": true
      },
      "cell_type": "code",
      "source": "import plotly.plotly as py\nfrom plotly.offline import init_notebook_mode, iplot\ninit_notebook_mode(connected=True)\n\nfrom plotly.graph_objs import Scatter, Layout, Marker\nimport plotly.graph_objs as go\nimport random\n\n\ndef oferta_demanda():\n\n    # construir parametrizacao random e printar ela descrita\n    # varia de 0 a 10\n    gostos = []\n    for i in range(3):\n        gostos.append(random.randint(0,10))\n    gostos = sorted(gostos)\n    expectativa = 6\n\n    traces = []\n    for b in [0.5, 8]:\n        for index, gosto in enumerate(gostos):\n            delta = (gosto + expectativa)/20.0\n            if b == 8:\n                delta = -1*delta\n            axis_x = []\n            axis_y = []\n            for x in range(10):\n                axis_x.append(x)\n                axis_y.append(b + float(delta*x))\n\n            trace = go.Scatter(\n                x=axis_x,\n                y=axis_y,\n                name = 'Oferta_'+str(index) if b==8 else 'Demanda_'+str(index)\n            )\n            traces.append(trace)\n\n    fig = {\n        \"data\": [trace for trace in traces],\n        \"layout\": Layout(title=\"CURVA OFERTA & DEMANDA\" )\n    }\n\n\n    iplot(fig)\n\noferta_demanda()\n\n\n",
      "execution_count": 21,
      "outputs": [
        {
          "output_type": "display_data",
          "data": {
            "text/html": "<script>requirejs.config({paths: { 'plotly': ['https://cdn.plot.ly/plotly-latest.min']},});if(!window.Plotly) {{require(['plotly'],function(plotly) {window.Plotly=plotly;});}}</script>",
            "text/vnd.plotly.v1+html": "<script>requirejs.config({paths: { 'plotly': ['https://cdn.plot.ly/plotly-latest.min']},});if(!window.Plotly) {{require(['plotly'],function(plotly) {window.Plotly=plotly;});}}</script>"
          },
          "metadata": {}
        },
        {
          "output_type": "display_data",
          "data": {
            "application/vnd.plotly.v1+json": {
              "data": [
                {
                  "name": "Demanda_0",
                  "x": [
                    0,
                    1,
                    2,
                    3,
                    4,
                    5,
                    6,
                    7,
                    8,
                    9
                  ],
                  "y": [
                    0.5,
                    0.8,
                    1.1,
                    1.4,
                    1.7,
                    2,
                    2.3,
                    2.6,
                    2.9,
                    3.1999999999999997
                  ],
                  "type": "scatter",
                  "uid": "b99d01e4-8b7a-11e8-9151-0242ac130010"
                },
                {
                  "name": "Demanda_1",
                  "x": [
                    0,
                    1,
                    2,
                    3,
                    4,
                    5,
                    6,
                    7,
                    8,
                    9
                  ],
                  "y": [
                    0.5,
                    1.05,
                    1.6,
                    2.1500000000000004,
                    2.7,
                    3.25,
                    3.8000000000000003,
                    4.3500000000000005,
                    4.9,
                    5.45
                  ],
                  "type": "scatter",
                  "uid": "b99d063a-8b7a-11e8-9151-0242ac130010"
                },
                {
                  "name": "Demanda_2",
                  "x": [
                    0,
                    1,
                    2,
                    3,
                    4,
                    5,
                    6,
                    7,
                    8,
                    9
                  ],
                  "y": [
                    0.5,
                    1.15,
                    1.8,
                    2.45,
                    3.1,
                    3.75,
                    4.4,
                    5.05,
                    5.7,
                    6.3500000000000005
                  ],
                  "type": "scatter",
                  "uid": "b99d08ba-8b7a-11e8-9151-0242ac130010"
                },
                {
                  "name": "Oferta_0",
                  "x": [
                    0,
                    1,
                    2,
                    3,
                    4,
                    5,
                    6,
                    7,
                    8,
                    9
                  ],
                  "y": [
                    8,
                    7.7,
                    7.4,
                    7.1,
                    6.8,
                    6.5,
                    6.2,
                    5.9,
                    5.6,
                    5.300000000000001
                  ],
                  "type": "scatter",
                  "uid": "b99d0b08-8b7a-11e8-9151-0242ac130010"
                },
                {
                  "name": "Oferta_1",
                  "x": [
                    0,
                    1,
                    2,
                    3,
                    4,
                    5,
                    6,
                    7,
                    8,
                    9
                  ],
                  "y": [
                    8,
                    7.45,
                    6.9,
                    6.35,
                    5.8,
                    5.25,
                    4.699999999999999,
                    4.1499999999999995,
                    3.5999999999999996,
                    3.05
                  ],
                  "type": "scatter",
                  "uid": "b99d0d42-8b7a-11e8-9151-0242ac130010"
                },
                {
                  "name": "Oferta_2",
                  "x": [
                    0,
                    1,
                    2,
                    3,
                    4,
                    5,
                    6,
                    7,
                    8,
                    9
                  ],
                  "y": [
                    8,
                    7.35,
                    6.7,
                    6.05,
                    5.4,
                    4.75,
                    4.1,
                    3.45,
                    2.8,
                    2.1499999999999995
                  ],
                  "type": "scatter",
                  "uid": "b99d0fc2-8b7a-11e8-9151-0242ac130010"
                }
              ],
              "layout": {
                "title": "CURVA OFERTA & DEMANDA"
              }
            },
            "text/html": "<div id=\"2e8b3c0f-ad6e-4942-a86a-253a24ad2209\" style=\"height: 525px; width: 100%;\" class=\"plotly-graph-div\"></div><script type=\"text/javascript\">require([\"plotly\"], function(Plotly) { window.PLOTLYENV=window.PLOTLYENV || {};window.PLOTLYENV.BASE_URL=\"https://plot.ly\";Plotly.newPlot(\"2e8b3c0f-ad6e-4942-a86a-253a24ad2209\", [{\"name\": \"Demanda_0\", \"x\": [0, 1, 2, 3, 4, 5, 6, 7, 8, 9], \"y\": [0.5, 0.8, 1.1, 1.4, 1.7, 2.0, 2.3, 2.6, 2.9, 3.1999999999999997], \"type\": \"scatter\", \"uid\": \"b9ada8dc-8b7a-11e8-9151-0242ac130010\"}, {\"name\": \"Demanda_1\", \"x\": [0, 1, 2, 3, 4, 5, 6, 7, 8, 9], \"y\": [0.5, 1.05, 1.6, 2.1500000000000004, 2.7, 3.25, 3.8000000000000003, 4.3500000000000005, 4.9, 5.45], \"type\": \"scatter\", \"uid\": \"b9adae7c-8b7a-11e8-9151-0242ac130010\"}, {\"name\": \"Demanda_2\", \"x\": [0, 1, 2, 3, 4, 5, 6, 7, 8, 9], \"y\": [0.5, 1.15, 1.8, 2.45, 3.1, 3.75, 4.4, 5.05, 5.7, 6.3500000000000005], \"type\": \"scatter\", \"uid\": \"b9adb336-8b7a-11e8-9151-0242ac130010\"}, {\"name\": \"Oferta_0\", \"x\": [0, 1, 2, 3, 4, 5, 6, 7, 8, 9], \"y\": [8.0, 7.7, 7.4, 7.1, 6.8, 6.5, 6.2, 5.9, 5.6, 5.300000000000001], \"type\": \"scatter\", \"uid\": \"b9adb796-8b7a-11e8-9151-0242ac130010\"}, {\"name\": \"Oferta_1\", \"x\": [0, 1, 2, 3, 4, 5, 6, 7, 8, 9], \"y\": [8.0, 7.45, 6.9, 6.35, 5.8, 5.25, 4.699999999999999, 4.1499999999999995, 3.5999999999999996, 3.05], \"type\": \"scatter\", \"uid\": \"b9adbbec-8b7a-11e8-9151-0242ac130010\"}, {\"name\": \"Oferta_2\", \"x\": [0, 1, 2, 3, 4, 5, 6, 7, 8, 9], \"y\": [8.0, 7.35, 6.7, 6.05, 5.4, 4.75, 4.1, 3.45, 2.8, 2.1499999999999995], \"type\": \"scatter\", \"uid\": \"b9adc042-8b7a-11e8-9151-0242ac130010\"}], {\"title\": \"CURVA OFERTA & DEMANDA\"}, {\"showLink\": true, \"linkText\": \"Export to plot.ly\"})});</script>",
            "text/vnd.plotly.v1+html": "<div id=\"2e8b3c0f-ad6e-4942-a86a-253a24ad2209\" style=\"height: 525px; width: 100%;\" class=\"plotly-graph-div\"></div><script type=\"text/javascript\">require([\"plotly\"], function(Plotly) { window.PLOTLYENV=window.PLOTLYENV || {};window.PLOTLYENV.BASE_URL=\"https://plot.ly\";Plotly.newPlot(\"2e8b3c0f-ad6e-4942-a86a-253a24ad2209\", [{\"name\": \"Demanda_0\", \"x\": [0, 1, 2, 3, 4, 5, 6, 7, 8, 9], \"y\": [0.5, 0.8, 1.1, 1.4, 1.7, 2.0, 2.3, 2.6, 2.9, 3.1999999999999997], \"type\": \"scatter\", \"uid\": \"b9ada8dc-8b7a-11e8-9151-0242ac130010\"}, {\"name\": \"Demanda_1\", \"x\": [0, 1, 2, 3, 4, 5, 6, 7, 8, 9], \"y\": [0.5, 1.05, 1.6, 2.1500000000000004, 2.7, 3.25, 3.8000000000000003, 4.3500000000000005, 4.9, 5.45], \"type\": \"scatter\", \"uid\": \"b9adae7c-8b7a-11e8-9151-0242ac130010\"}, {\"name\": \"Demanda_2\", \"x\": [0, 1, 2, 3, 4, 5, 6, 7, 8, 9], \"y\": [0.5, 1.15, 1.8, 2.45, 3.1, 3.75, 4.4, 5.05, 5.7, 6.3500000000000005], \"type\": \"scatter\", \"uid\": \"b9adb336-8b7a-11e8-9151-0242ac130010\"}, {\"name\": \"Oferta_0\", \"x\": [0, 1, 2, 3, 4, 5, 6, 7, 8, 9], \"y\": [8.0, 7.7, 7.4, 7.1, 6.8, 6.5, 6.2, 5.9, 5.6, 5.300000000000001], \"type\": \"scatter\", \"uid\": \"b9adb796-8b7a-11e8-9151-0242ac130010\"}, {\"name\": \"Oferta_1\", \"x\": [0, 1, 2, 3, 4, 5, 6, 7, 8, 9], \"y\": [8.0, 7.45, 6.9, 6.35, 5.8, 5.25, 4.699999999999999, 4.1499999999999995, 3.5999999999999996, 3.05], \"type\": \"scatter\", \"uid\": \"b9adbbec-8b7a-11e8-9151-0242ac130010\"}, {\"name\": \"Oferta_2\", \"x\": [0, 1, 2, 3, 4, 5, 6, 7, 8, 9], \"y\": [8.0, 7.35, 6.7, 6.05, 5.4, 4.75, 4.1, 3.45, 2.8, 2.1499999999999995], \"type\": \"scatter\", \"uid\": \"b9adc042-8b7a-11e8-9151-0242ac130010\"}], {\"title\": \"CURVA OFERTA & DEMANDA\"}, {\"showLink\": true, \"linkText\": \"Export to plot.ly\"})});</script>"
          },
          "metadata": {}
        }
      ]
    },
    {
      "metadata": {
        "_cell_guid": "79c7e3d0-c299-4dcb-8224-4455121ee9b0",
        "collapsed": true,
        "_uuid": "d629ff2d2480ee46fbb7e2d37f6b5fab8052498a",
        "trusted": false
      },
      "cell_type": "markdown",
      "source": "Aqui plotei 3 gráficos de oferta e demanda, cada qual dos três com \"gostos\" distintos. \nNo gráfico de oferta e demanda podemos verificar algumas coisas. Aqui fiz apenas a variação na variável \"gosto\", de modo que, é simples perceber que para \"gostos maiores\" ou seja produstos mais desejados o preço mesmo aumentando temos uma demanda que acaba não variando muito. Também é possível notar que o preço de equilibrio é menor para produtos com gosto mais elevado (interseção Demanda/Oferta 2), enquanto a curva 0, menor gosto possível o ponto de equilibrio nem é alcançado."
    },
    {
      "metadata": {
        "_uuid": "94a3e067e94f78923828e0bc02bb68f62004e6d7"
      },
      "cell_type": "markdown",
      "source": "**Elasticidade**\n\nAqui apresento três representações mais conhecidas de elasticidade, todas geradas de modo orgânico."
    },
    {
      "metadata": {
        "trusted": true,
        "_uuid": "08a288b72a8f0e1a0c0c07ece46025f1a010ad72"
      },
      "cell_type": "code",
      "source": "def elasticidade():\n\n    elasticidade = ['simples', 'perfeita_inelastica', 'perfeita_elastica']\n    for ele in elasticidade:\n        axis_x = []\n        traces = []\n        axis_y = []\n\n        # calc a simple demand curve\n        for x in range(10):\n            if ele == 'perfeita_inelastica':\n                axis_x.append(7)\n            elif ele == 'perfeita_elastica':\n                axis_x.append(x*1000)\n            else:\n                axis_x.append(x)\n            axis_y.append(8 - float(2*x))\n\n        trace = go.Scatter(\n            x=axis_x,\n            y=axis_y\n        )\n        traces.append(trace)\n\n        # calc a elasticity curve\n        new_axis_y = []\n        new_axis_x = []\n        for x in range(9):\n            if x % 2 == 1:\n                continue\n            new_axis_x.append(x)\n            elasticity = float(((axis_x[x] - axis_x[x+1])/ (axis_x[x]+axis_x[x+1])/2.0)) \\\n                / float(((axis_y[x] - axis_y[x+1])/ (axis_y[x] + axis_x[x+1]/2.0)))\n\n            new_axis_y.append(elasticity)\n\n        trace = go.Scatter(\n            x=new_axis_x,\n            y=new_axis_y\n\n        )\n        traces.append(trace)\n        fig = {\n            \"data\": [trace for trace in traces],\n            \"layout\": Layout(title=\"CURVA \"+ele.upper() )\n        }\n\n\n        iplot(fig)\nelasticidade()\n",
      "execution_count": 22,
      "outputs": [
        {
          "output_type": "display_data",
          "data": {
            "application/vnd.plotly.v1+json": {
              "data": [
                {
                  "x": [
                    0,
                    1,
                    2,
                    3,
                    4,
                    5,
                    6,
                    7,
                    8,
                    9
                  ],
                  "y": [
                    8,
                    6,
                    4,
                    2,
                    0,
                    -2,
                    -4,
                    -6,
                    -8,
                    -10
                  ],
                  "type": "scatter",
                  "uid": "b9cb470c-8b7a-11e8-9151-0242ac130010"
                },
                {
                  "x": [
                    0,
                    2,
                    4,
                    6,
                    8
                  ],
                  "y": [
                    -2.125,
                    -0.275,
                    -0.06944444444444443,
                    0.009615384615384616,
                    0.05147058823529412
                  ],
                  "type": "scatter",
                  "uid": "b9cb4b4e-8b7a-11e8-9151-0242ac130010"
                }
              ],
              "layout": {
                "title": "CURVA SIMPLES"
              }
            },
            "text/html": "<div id=\"ea4ec78e-956c-4a14-8f5c-05756a07d6cd\" style=\"height: 525px; width: 100%;\" class=\"plotly-graph-div\"></div><script type=\"text/javascript\">require([\"plotly\"], function(Plotly) { window.PLOTLYENV=window.PLOTLYENV || {};window.PLOTLYENV.BASE_URL=\"https://plot.ly\";Plotly.newPlot(\"ea4ec78e-956c-4a14-8f5c-05756a07d6cd\", [{\"x\": [0, 1, 2, 3, 4, 5, 6, 7, 8, 9], \"y\": [8.0, 6.0, 4.0, 2.0, 0.0, -2.0, -4.0, -6.0, -8.0, -10.0], \"type\": \"scatter\", \"uid\": \"b9d55f8a-8b7a-11e8-9151-0242ac130010\"}, {\"x\": [0, 2, 4, 6, 8], \"y\": [-2.125, -0.275, -0.06944444444444443, 0.009615384615384616, 0.05147058823529412], \"type\": \"scatter\", \"uid\": \"b9d56390-8b7a-11e8-9151-0242ac130010\"}], {\"title\": \"CURVA SIMPLES\"}, {\"showLink\": true, \"linkText\": \"Export to plot.ly\"})});</script>",
            "text/vnd.plotly.v1+html": "<div id=\"ea4ec78e-956c-4a14-8f5c-05756a07d6cd\" style=\"height: 525px; width: 100%;\" class=\"plotly-graph-div\"></div><script type=\"text/javascript\">require([\"plotly\"], function(Plotly) { window.PLOTLYENV=window.PLOTLYENV || {};window.PLOTLYENV.BASE_URL=\"https://plot.ly\";Plotly.newPlot(\"ea4ec78e-956c-4a14-8f5c-05756a07d6cd\", [{\"x\": [0, 1, 2, 3, 4, 5, 6, 7, 8, 9], \"y\": [8.0, 6.0, 4.0, 2.0, 0.0, -2.0, -4.0, -6.0, -8.0, -10.0], \"type\": \"scatter\", \"uid\": \"b9d55f8a-8b7a-11e8-9151-0242ac130010\"}, {\"x\": [0, 2, 4, 6, 8], \"y\": [-2.125, -0.275, -0.06944444444444443, 0.009615384615384616, 0.05147058823529412], \"type\": \"scatter\", \"uid\": \"b9d56390-8b7a-11e8-9151-0242ac130010\"}], {\"title\": \"CURVA SIMPLES\"}, {\"showLink\": true, \"linkText\": \"Export to plot.ly\"})});</script>"
          },
          "metadata": {}
        },
        {
          "output_type": "display_data",
          "data": {
            "application/vnd.plotly.v1+json": {
              "data": [
                {
                  "x": [
                    7,
                    7,
                    7,
                    7,
                    7,
                    7,
                    7,
                    7,
                    7,
                    7
                  ],
                  "y": [
                    8,
                    6,
                    4,
                    2,
                    0,
                    -2,
                    -4,
                    -6,
                    -8,
                    -10
                  ],
                  "type": "scatter",
                  "uid": "b9ebaf60-8b7a-11e8-9151-0242ac130010"
                },
                {
                  "x": [
                    0,
                    2,
                    4,
                    6,
                    8
                  ],
                  "y": [
                    0,
                    0,
                    0,
                    0,
                    0
                  ],
                  "type": "scatter",
                  "uid": "b9ebb3b6-8b7a-11e8-9151-0242ac130010"
                }
              ],
              "layout": {
                "title": "CURVA PERFEITA_INELASTICA"
              }
            },
            "text/html": "<div id=\"1800011f-b956-429b-bf0e-85a23ba420c4\" style=\"height: 525px; width: 100%;\" class=\"plotly-graph-div\"></div><script type=\"text/javascript\">require([\"plotly\"], function(Plotly) { window.PLOTLYENV=window.PLOTLYENV || {};window.PLOTLYENV.BASE_URL=\"https://plot.ly\";Plotly.newPlot(\"1800011f-b956-429b-bf0e-85a23ba420c4\", [{\"x\": [7, 7, 7, 7, 7, 7, 7, 7, 7, 7], \"y\": [8.0, 6.0, 4.0, 2.0, 0.0, -2.0, -4.0, -6.0, -8.0, -10.0], \"type\": \"scatter\", \"uid\": \"b9f64880-8b7a-11e8-9151-0242ac130010\"}, {\"x\": [0, 2, 4, 6, 8], \"y\": [0.0, 0.0, 0.0, -0.0, -0.0], \"type\": \"scatter\", \"uid\": \"b9f64ccc-8b7a-11e8-9151-0242ac130010\"}], {\"title\": \"CURVA PERFEITA_INELASTICA\"}, {\"showLink\": true, \"linkText\": \"Export to plot.ly\"})});</script>",
            "text/vnd.plotly.v1+html": "<div id=\"1800011f-b956-429b-bf0e-85a23ba420c4\" style=\"height: 525px; width: 100%;\" class=\"plotly-graph-div\"></div><script type=\"text/javascript\">require([\"plotly\"], function(Plotly) { window.PLOTLYENV=window.PLOTLYENV || {};window.PLOTLYENV.BASE_URL=\"https://plot.ly\";Plotly.newPlot(\"1800011f-b956-429b-bf0e-85a23ba420c4\", [{\"x\": [7, 7, 7, 7, 7, 7, 7, 7, 7, 7], \"y\": [8.0, 6.0, 4.0, 2.0, 0.0, -2.0, -4.0, -6.0, -8.0, -10.0], \"type\": \"scatter\", \"uid\": \"b9f64880-8b7a-11e8-9151-0242ac130010\"}, {\"x\": [0, 2, 4, 6, 8], \"y\": [0.0, 0.0, 0.0, -0.0, -0.0], \"type\": \"scatter\", \"uid\": \"b9f64ccc-8b7a-11e8-9151-0242ac130010\"}], {\"title\": \"CURVA PERFEITA_INELASTICA\"}, {\"showLink\": true, \"linkText\": \"Export to plot.ly\"})});</script>"
          },
          "metadata": {}
        },
        {
          "output_type": "display_data",
          "data": {
            "application/vnd.plotly.v1+json": {
              "data": [
                {
                  "x": [
                    0,
                    1000,
                    2000,
                    3000,
                    4000,
                    5000,
                    6000,
                    7000,
                    8000,
                    9000
                  ],
                  "y": [
                    8,
                    6,
                    4,
                    2,
                    0,
                    -2,
                    -4,
                    -6,
                    -8,
                    -10
                  ],
                  "type": "scatter",
                  "uid": "ba0c116a-8b7a-11e8-9151-0242ac130010"
                },
                {
                  "x": [
                    0,
                    2,
                    4,
                    6,
                    8
                  ],
                  "y": [
                    -127,
                    -75.2,
                    -69.44444444444444,
                    -67.23076923076924,
                    -66.05882352941177
                  ],
                  "type": "scatter",
                  "uid": "ba0c15c0-8b7a-11e8-9151-0242ac130010"
                }
              ],
              "layout": {
                "title": "CURVA PERFEITA_ELASTICA"
              }
            },
            "text/html": "<div id=\"3e827aad-b5fd-4638-bdbd-0a2a694e34d0\" style=\"height: 525px; width: 100%;\" class=\"plotly-graph-div\"></div><script type=\"text/javascript\">require([\"plotly\"], function(Plotly) { window.PLOTLYENV=window.PLOTLYENV || {};window.PLOTLYENV.BASE_URL=\"https://plot.ly\";Plotly.newPlot(\"3e827aad-b5fd-4638-bdbd-0a2a694e34d0\", [{\"x\": [0, 1000, 2000, 3000, 4000, 5000, 6000, 7000, 8000, 9000], \"y\": [8.0, 6.0, 4.0, 2.0, 0.0, -2.0, -4.0, -6.0, -8.0, -10.0], \"type\": \"scatter\", \"uid\": \"ba16489c-8b7a-11e8-9151-0242ac130010\"}, {\"x\": [0, 2, 4, 6, 8], \"y\": [-127.0, -75.2, -69.44444444444444, -67.23076923076924, -66.05882352941177], \"type\": \"scatter\", \"uid\": \"ba164e96-8b7a-11e8-9151-0242ac130010\"}], {\"title\": \"CURVA PERFEITA_ELASTICA\"}, {\"showLink\": true, \"linkText\": \"Export to plot.ly\"})});</script>",
            "text/vnd.plotly.v1+html": "<div id=\"3e827aad-b5fd-4638-bdbd-0a2a694e34d0\" style=\"height: 525px; width: 100%;\" class=\"plotly-graph-div\"></div><script type=\"text/javascript\">require([\"plotly\"], function(Plotly) { window.PLOTLYENV=window.PLOTLYENV || {};window.PLOTLYENV.BASE_URL=\"https://plot.ly\";Plotly.newPlot(\"3e827aad-b5fd-4638-bdbd-0a2a694e34d0\", [{\"x\": [0, 1000, 2000, 3000, 4000, 5000, 6000, 7000, 8000, 9000], \"y\": [8.0, 6.0, 4.0, 2.0, 0.0, -2.0, -4.0, -6.0, -8.0, -10.0], \"type\": \"scatter\", \"uid\": \"ba16489c-8b7a-11e8-9151-0242ac130010\"}, {\"x\": [0, 2, 4, 6, 8], \"y\": [-127.0, -75.2, -69.44444444444444, -67.23076923076924, -66.05882352941177], \"type\": \"scatter\", \"uid\": \"ba164e96-8b7a-11e8-9151-0242ac130010\"}], {\"title\": \"CURVA PERFEITA_ELASTICA\"}, {\"showLink\": true, \"linkText\": \"Export to plot.ly\"})});</script>"
          },
          "metadata": {}
        }
      ]
    },
    {
      "metadata": {
        "_uuid": "627565e7deddcce58abbf3c2139598793413798e"
      },
      "cell_type": "markdown",
      "source": "**PIB Real & Nominal**\n\nAqui reproduzi em uma econômia muito simples, de um produto uma breve análise da influência da variação de preços e a quantidade gerada do mesmo."
    },
    {
      "metadata": {
        "trusted": true,
        "_uuid": "aa873e9e2213e5782603092d0883604e66c82236"
      },
      "cell_type": "code",
      "source": "def pib():\n    anos_dinheiro = {\n        2000 : 100,\n        2001 : 110,\n        2002 : 90,\n        2003 : 105,\n        2004 : 120,\n    }\n    anos_preco = {\n        2000 : 0.55,\n        2001 : 0.6,\n        2002 : 0.7,\n        2003 : 0.45,\n        2004 : 0.8,\n    }\n    traces = []\n\n    for tipo in ['preco_unit (* 100)', 'nominal', 'real']:\n        axis_y = []\n        axis_x = []\n        for ano in anos_dinheiro:\n            if tipo == 'nominal':\n                axis_x.append(ano)\n                axis_y.append(anos_dinheiro[ano])\n            if tipo == 'preco_unit (* 100)':\n                axis_x.append(ano)\n                axis_y.append(anos_preco[ano]*100)\n            if tipo =='real':\n                axis_x.append(ano)\n                axis_y.append(anos_dinheiro[ano]/anos_preco[ano] \\\n                    * anos_preco[2000])\n\n        trace = go.Scatter(\n            x=axis_x,\n            y=axis_y,\n            name = tipo\n        )\n        traces.append(trace)\n\n    fig = {\n        \"data\": [trace for trace in traces],\n        \"layout\": Layout(title=\"CURVA PIB\" )\n    }\n\n    iplot(fig)\n\npib()",
      "execution_count": 23,
      "outputs": [
        {
          "output_type": "display_data",
          "data": {
            "application/vnd.plotly.v1+json": {
              "data": [
                {
                  "name": "preco_unit (* 100)",
                  "x": [
                    2000,
                    2001,
                    2002,
                    2003,
                    2004
                  ],
                  "y": [
                    55.00000000000001,
                    60,
                    70,
                    45,
                    80
                  ],
                  "type": "scatter",
                  "uid": "ba369f02-8b7a-11e8-9151-0242ac130010"
                },
                {
                  "name": "nominal",
                  "x": [
                    2000,
                    2001,
                    2002,
                    2003,
                    2004
                  ],
                  "y": [
                    100,
                    110,
                    90,
                    105,
                    120
                  ],
                  "type": "scatter",
                  "uid": "ba36a560-8b7a-11e8-9151-0242ac130010"
                },
                {
                  "name": "real",
                  "x": [
                    2000,
                    2001,
                    2002,
                    2003,
                    2004
                  ],
                  "y": [
                    100,
                    100.83333333333334,
                    70.71428571428572,
                    128.33333333333334,
                    82.5
                  ],
                  "type": "scatter",
                  "uid": "ba36a7f4-8b7a-11e8-9151-0242ac130010"
                }
              ],
              "layout": {
                "title": "CURVA PIB"
              }
            },
            "text/html": "<div id=\"6215b11f-450d-4c7a-9626-35604068c892\" style=\"height: 525px; width: 100%;\" class=\"plotly-graph-div\"></div><script type=\"text/javascript\">require([\"plotly\"], function(Plotly) { window.PLOTLYENV=window.PLOTLYENV || {};window.PLOTLYENV.BASE_URL=\"https://plot.ly\";Plotly.newPlot(\"6215b11f-450d-4c7a-9626-35604068c892\", [{\"name\": \"preco_unit (* 100)\", \"x\": [2000, 2001, 2002, 2003, 2004], \"y\": [55.00000000000001, 60.0, 70.0, 45.0, 80.0], \"type\": \"scatter\", \"uid\": \"ba42d114-8b7a-11e8-9151-0242ac130010\"}, {\"name\": \"nominal\", \"x\": [2000, 2001, 2002, 2003, 2004], \"y\": [100, 110, 90, 105, 120], \"type\": \"scatter\", \"uid\": \"ba42d57e-8b7a-11e8-9151-0242ac130010\"}, {\"name\": \"real\", \"x\": [2000, 2001, 2002, 2003, 2004], \"y\": [100.0, 100.83333333333334, 70.71428571428572, 128.33333333333334, 82.5], \"type\": \"scatter\", \"uid\": \"ba42d8e4-8b7a-11e8-9151-0242ac130010\"}], {\"title\": \"CURVA PIB\"}, {\"showLink\": true, \"linkText\": \"Export to plot.ly\"})});</script>",
            "text/vnd.plotly.v1+html": "<div id=\"6215b11f-450d-4c7a-9626-35604068c892\" style=\"height: 525px; width: 100%;\" class=\"plotly-graph-div\"></div><script type=\"text/javascript\">require([\"plotly\"], function(Plotly) { window.PLOTLYENV=window.PLOTLYENV || {};window.PLOTLYENV.BASE_URL=\"https://plot.ly\";Plotly.newPlot(\"6215b11f-450d-4c7a-9626-35604068c892\", [{\"name\": \"preco_unit (* 100)\", \"x\": [2000, 2001, 2002, 2003, 2004], \"y\": [55.00000000000001, 60.0, 70.0, 45.0, 80.0], \"type\": \"scatter\", \"uid\": \"ba42d114-8b7a-11e8-9151-0242ac130010\"}, {\"name\": \"nominal\", \"x\": [2000, 2001, 2002, 2003, 2004], \"y\": [100, 110, 90, 105, 120], \"type\": \"scatter\", \"uid\": \"ba42d57e-8b7a-11e8-9151-0242ac130010\"}, {\"name\": \"real\", \"x\": [2000, 2001, 2002, 2003, 2004], \"y\": [100.0, 100.83333333333334, 70.71428571428572, 128.33333333333334, 82.5], \"type\": \"scatter\", \"uid\": \"ba42d8e4-8b7a-11e8-9151-0242ac130010\"}], {\"title\": \"CURVA PIB\"}, {\"showLink\": true, \"linkText\": \"Export to plot.ly\"})});</script>"
          },
          "metadata": {}
        }
      ]
    },
    {
      "metadata": {
        "trusted": true,
        "_uuid": "1a73a85bc49b2fb72e0ee35406af63946337d479"
      },
      "cell_type": "code",
      "source": "def inflacao():\n    anos_dinheiro = {\n        2000 : [100, 100],\n        2001 : [150, 180],\n        2002 : [155, 182],\n        2003 : [165, 190],\n        2004 : [166, 193],\n    }\n    percent = [0.6, 0.4]\n    traces = []\n\n    axis_y = []\n    axis_x = []\n    base = anos_dinheiro[2000][0] * percent[0] + anos_dinheiro[2000][1] * percent[1]\n    for ano in anos_dinheiro:\n        axis_x.append(ano)\n        tot = anos_dinheiro[ano][0]*percent[0] + anos_dinheiro[ano][1]*percent[1]\n        axis_y.append((tot - base))\n    traces = []\n    trace = go.Scatter(\n        x=axis_x,\n        y=axis_y,\n        name = 'Inflacao em %'\n    )\n    traces.append(trace)\n    axis_y1 = []\n    axis_y2 = []\n    for ano in anos_dinheiro:\n        axis_y1.append(anos_dinheiro[ano][0])\n        axis_y2.append(anos_dinheiro[ano][1])\n\n    for index, y in enumerate([axis_y1, axis_y2]):\n        trace = go.Scatter(\n            x=axis_x,\n            y=y,\n            name = 'Produto_'+str(index)\n        )\n        traces.append(trace)\n\n\n    fig = {\n        \"data\": [trace for trace in traces],\n        \"layout\": Layout(title=\"CURVA INFLACAO\" )\n    }\n\n    iplot(fig)\n\ninflacao()",
      "execution_count": 24,
      "outputs": [
        {
          "output_type": "display_data",
          "data": {
            "application/vnd.plotly.v1+json": {
              "data": [
                {
                  "name": "Inflacao em %",
                  "x": [
                    2000,
                    2001,
                    2002,
                    2003,
                    2004
                  ],
                  "y": [
                    0,
                    62,
                    65.80000000000001,
                    75,
                    76.80000000000001
                  ],
                  "type": "scatter",
                  "uid": "ba653664-8b7a-11e8-9151-0242ac130010"
                },
                {
                  "name": "Produto_0",
                  "x": [
                    2000,
                    2001,
                    2002,
                    2003,
                    2004
                  ],
                  "y": [
                    100,
                    150,
                    155,
                    165,
                    166
                  ],
                  "type": "scatter",
                  "uid": "ba653ab0-8b7a-11e8-9151-0242ac130010"
                },
                {
                  "name": "Produto_1",
                  "x": [
                    2000,
                    2001,
                    2002,
                    2003,
                    2004
                  ],
                  "y": [
                    100,
                    180,
                    182,
                    190,
                    193
                  ],
                  "type": "scatter",
                  "uid": "ba653d76-8b7a-11e8-9151-0242ac130010"
                }
              ],
              "layout": {
                "title": "CURVA INFLACAO"
              }
            },
            "text/html": "<div id=\"fcce9c4b-3089-4f59-96e6-81b7978d997e\" style=\"height: 525px; width: 100%;\" class=\"plotly-graph-div\"></div><script type=\"text/javascript\">require([\"plotly\"], function(Plotly) { window.PLOTLYENV=window.PLOTLYENV || {};window.PLOTLYENV.BASE_URL=\"https://plot.ly\";Plotly.newPlot(\"fcce9c4b-3089-4f59-96e6-81b7978d997e\", [{\"name\": \"Inflacao em %\", \"x\": [2000, 2001, 2002, 2003, 2004], \"y\": [0.0, 62.0, 65.80000000000001, 75.0, 76.80000000000001], \"type\": \"scatter\", \"uid\": \"ba714738-8b7a-11e8-9151-0242ac130010\"}, {\"name\": \"Produto_0\", \"x\": [2000, 2001, 2002, 2003, 2004], \"y\": [100, 150, 155, 165, 166], \"type\": \"scatter\", \"uid\": \"ba715124-8b7a-11e8-9151-0242ac130010\"}, {\"name\": \"Produto_1\", \"x\": [2000, 2001, 2002, 2003, 2004], \"y\": [100, 180, 182, 190, 193], \"type\": \"scatter\", \"uid\": \"ba715412-8b7a-11e8-9151-0242ac130010\"}], {\"title\": \"CURVA INFLACAO\"}, {\"showLink\": true, \"linkText\": \"Export to plot.ly\"})});</script>",
            "text/vnd.plotly.v1+html": "<div id=\"fcce9c4b-3089-4f59-96e6-81b7978d997e\" style=\"height: 525px; width: 100%;\" class=\"plotly-graph-div\"></div><script type=\"text/javascript\">require([\"plotly\"], function(Plotly) { window.PLOTLYENV=window.PLOTLYENV || {};window.PLOTLYENV.BASE_URL=\"https://plot.ly\";Plotly.newPlot(\"fcce9c4b-3089-4f59-96e6-81b7978d997e\", [{\"name\": \"Inflacao em %\", \"x\": [2000, 2001, 2002, 2003, 2004], \"y\": [0.0, 62.0, 65.80000000000001, 75.0, 76.80000000000001], \"type\": \"scatter\", \"uid\": \"ba714738-8b7a-11e8-9151-0242ac130010\"}, {\"name\": \"Produto_0\", \"x\": [2000, 2001, 2002, 2003, 2004], \"y\": [100, 150, 155, 165, 166], \"type\": \"scatter\", \"uid\": \"ba715124-8b7a-11e8-9151-0242ac130010\"}, {\"name\": \"Produto_1\", \"x\": [2000, 2001, 2002, 2003, 2004], \"y\": [100, 180, 182, 190, 193], \"type\": \"scatter\", \"uid\": \"ba715412-8b7a-11e8-9151-0242ac130010\"}], {\"title\": \"CURVA INFLACAO\"}, {\"showLink\": true, \"linkText\": \"Export to plot.ly\"})});</script>"
          },
          "metadata": {}
        }
      ]
    },
    {
      "metadata": {
        "_uuid": "4efbb366d4a0ade88a5f202f60166b899b84b8c7"
      },
      "cell_type": "markdown",
      "source": "**Simulção de trocas em uma pequena nação**\n\nVamos começar criando uma população, normal (hipótese não absurda da nossa realidade). Vamos estudar o índice gini e alteração de preços."
    },
    {
      "metadata": {
        "trusted": true,
        "_uuid": "743a9afe943121d9f8689a9f5011ce3b7c60b44e"
      },
      "cell_type": "code",
      "source": "import random\n\n# Tamanho da populacao e media \nN  = 5000 \nMU = 100. \n\npopulation = [random.gauss(mu=MU, sigma=MU/5) for actor in range(N)]\n\ndef gini(y):\n    \" Calculo do indice gini para populacao y\"\n    y = sorted(y)\n    n = len(y)\n    numer = 2 * sum((i+1) * y[i] for i in range(n))\n    denom = n * sum(y)\n    return (numer / denom) - (n + 1) / n\n\n%matplotlib inline\nimport matplotlib.pyplot as plt\n\ndef hist(population, label='pop', **kwargs):\n    \"Histograma para uma populacao\"\n    label = label + ': G=' + str(round(gini(population), 2))\n    h = plt.hist(list(population), bins=30, alpha=0.5, label=label, **kwargs)\n    plt.xlabel('renda'); plt.ylabel('qtd'); plt.grid(True)\n    plt.legend()\nhist(population)\n",
      "execution_count": 25,
      "outputs": [
        {
          "output_type": "display_data",
          "data": {
            "text/plain": "<matplotlib.figure.Figure at 0x7f8503792e48>",
            "image/png": "[encoded data removed]"
          },
          "metadata": {}
        }
      ]
    },
    {
      "metadata": {
        "_uuid": "adb459f08be9a0f0541f900c3d9861e85894a15f"
      },
      "cell_type": "markdown",
      "source": "**Transações**\n\nVamos definir uma transação de modo bem simples como sendo um jogo, onde os dois atores colocam o dinheiro no pote\ne então o valor total é divido randomicamente entre eles."
    },
    {
      "metadata": {
        "trusted": true,
        "_uuid": "c5b0d49f1638a022e07212da87ddff23d70138ad"
      },
      "cell_type": "code",
      "source": "def random_split(A, B):\n    \" Pega todo o dinheiro, insere em um pote e divide randomicamente entre os atores \"\n    pot = A + B\n    share = random.uniform(0, pot)\n    return share, pot - share\nrandom_split(100, 100)\n",
      "execution_count": 26,
      "outputs": [
        {
          "output_type": "execute_result",
          "execution_count": 26,
          "data": {
            "text/plain": "(8.411810638749895, 191.5881893612501)"
          },
          "metadata": {}
        }
      ]
    },
    {
      "metadata": {
        "_uuid": "9754d9327151102fda3a217de63c605f88a8ab88"
      },
      "cell_type": "markdown",
      "source": "**Iterações**\n\nDefinimos como os atores iteragem, de maneira simples, pegamos dois atores da população e fazemos eles transacionar suas rendas.\n"
    },
    {
      "metadata": {
        "trusted": true,
        "collapsed": true,
        "_uuid": "ca105f88d0559e5f90a98513436b40916ebbdd66"
      },
      "cell_type": "code",
      "source": "def anyone(N): return random.sample(range(N), 2)",
      "execution_count": 27,
      "outputs": []
    },
    {
      "metadata": {
        "_uuid": "324f50240e002bf2de58f4ff52c1f142d232fe69"
      },
      "cell_type": "markdown",
      "source": "**Simulação**\n\nA função simulação pega uma população inicial, chama  dois atore para interagirem e transacionarem."
    },
    {
      "metadata": {
        "trusted": true,
        "_uuid": "0fcbeddd665b99f0de8d4caf4446aedcf4a2a209",
        "collapsed": true
      },
      "cell_type": "code",
      "source": "def simulate(population, T, transaction=random_split, interaction=anyone):\n    \" Roda uma simulacao sobre uma populacao para T transacoes \"\n\n    population = population.copy()\n    yield population\n    for t in range(1, T + 1):\n        i, j = interaction(len(population))\n        population[i], population[j] = transaction(population[i], population[j]) \n        yield population",
      "execution_count": 28,
      "outputs": []
    },
    {
      "metadata": {
        "_uuid": "3a613ecb09c784d07c8c59f02b73f26182e2ecff"
      },
      "cell_type": "markdown",
      "source": "Exemplo:"
    },
    {
      "metadata": {
        "trusted": true,
        "_uuid": "289ad1aa5641ee3704ff7cacc11c266cedece5e9"
      },
      "cell_type": "code",
      "source": "for pop in simulate([100] * 4, 8):\n    print(pop)",
      "execution_count": 29,
      "outputs": [
        {
          "output_type": "stream",
          "text": "[100, 100, 100, 100]\n[100.10652060235242, 100, 99.89347939764758, 100]\n[100.10652060235242, 100, 162.7010485101893, 37.192430887458265]\n[100.10652060235242, 84.46749448244904, 162.7010485101893, 52.72493640500924]\n[100.10652060235242, 84.46749448244904, 204.40544319681155, 11.020541718386994]\n[100.10652060235242, 80.98921199715849, 204.40544319681155, 14.498824203677543]\n[60.23723895650154, 120.85849364300937, 204.40544319681155, 14.498824203677543]\n[60.23723895650154, 218.36614856109594, 106.89778827872499, 14.498824203677543]\n[60.23723895650154, 56.27047336620143, 268.9934634736195, 14.498824203677543]\n",
          "name": "stdout"
        }
      ]
    },
    {
      "metadata": {
        "trusted": true,
        "collapsed": true,
        "_uuid": "02014146f290d9e4cfe91a5e7a035dc4eb04fe7e"
      },
      "cell_type": "code",
      "source": "import statistics\n\ndef show(population, k=40, percentiles=(1, 10, 50, 90, 99), **kwargs):\n    \"Run a simulation for k*N steps, printing statistics and displaying a plot and histogram.\"\n    N = len(population)\n    start = list(population)\n    # Sort results so that percentiles work\n    results = [(t, sorted(pop)) \n               for (t, pop) in enumerate(simulate(population, k * N, **kwargs))\n               if t % (N / 10) == 0]\n    times = [t for (t, pop) in results]\n    \n    # Printout:\n    print('   t    Gini stdev' + (' {:3d}%' * len(percentiles)).format(*percentiles))\n    print('------- ---- -----' + ' ----' * len(percentiles))\n    fmt = '{:7,d} {:.2f} {:5.1f}' + ' {:4.0f}' * len(percentiles)\n    for (t, pop) in results:\n        if t % (4 * N) == 0:\n            data = [percent(pct, pop) for pct in percentiles]\n            print(fmt.format(t, gini(pop), statistics.stdev(pop), *data))\n            \n    # Plot:\n    plt.hold(True); plt.xlabel('renda'); plt.ylabel('iter'); plt.grid(True)\n    for pct in percentiles:\n        line = [percent(pct, pop) for (t, pop) in results]\n        plt.plot(line, times)\n    plt.show()\n    \n    # Histogram:\n    R = (min(pop+start), max(pop+start))\n    hist(start, 'inicio', range=R)\n    hist(pop, 'fim', range=R)\n    \n    return pop\n                \ndef percent(pct, items):\n    \"The item that is pct percent through the sorted list of items.\"\n    return items[min(len(items)-1, len(items) * pct // 100)]",
      "execution_count": 30,
      "outputs": []
    },
    {
      "metadata": {
        "trusted": true,
        "_uuid": "e9cc0a478ec8988d2e20e668662ffa13d99a583f"
      },
      "cell_type": "code",
      "source": "pop = show(population)\n",
      "execution_count": 31,
      "outputs": [
        {
          "output_type": "stream",
          "text": "   t    Gini stdev   1%  10%  50%  90%  99%\n------- ---- ----- ---- ---- ---- ---- ----\n      0 0.11  19.8   54   74   99  125  144\n 20,000 0.49  95.6    1   11   72  227  440\n 40,000 0.50  98.5    1   11   69  227  437\n 60,000 0.50  99.6    1   11   67  232  443\n 80,000 0.50 100.8    1   10   69  224  486\n100,000 0.50 101.0    1   10   69  230  468\n120,000 0.50 100.2    1   10   69  233  464\n140,000 0.50  98.2    1   10   70  229  444\n160,000 0.51 102.7    1   11   67  230  472\n180,000 0.50  97.9    1   11   69  225  437\n200,000 0.50  99.6    1   10   69  231  445\n",
          "name": "stdout"
        },
        {
          "output_type": "stream",
          "text": "/opt/conda/lib/python3.6/site-packages/ipykernel_launcher.py:23: MatplotlibDeprecationWarning:\n\npyplot.hold is deprecated.\n    Future behavior will be consistent with the long-time default:\n    plot commands add elements without first clearing the\n    Axes and/or Figure.\n\n/opt/conda/lib/python3.6/site-packages/matplotlib/__init__.py:805: MatplotlibDeprecationWarning:\n\naxes.hold is deprecated. Please remove it from your matplotlibrc and/or style files.\n\n/opt/conda/lib/python3.6/site-packages/matplotlib/rcsetup.py:155: MatplotlibDeprecationWarning:\n\naxes.hold is deprecated, will be removed in 3.0\n\n",
          "name": "stderr"
        },
        {
          "output_type": "display_data",
          "data": {
            "text/plain": "<matplotlib.figure.Figure at 0x7f850179c160>",
            "image/png": "[encoded data removed]"
          },
          "metadata": {}
        },
        {
          "output_type": "display_data",
          "data": {
            "text/plain": "<matplotlib.figure.Figure at 0x7f85000c4ba8>",
            "image/png": "[encoded data removed]"
          },
          "metadata": {}
        }
      ]
    },
    {
      "metadata": {
        "_uuid": "bf4e7d7ac1f0404643f6584cff1b0c21198ffe0f"
      },
      "cell_type": "markdown",
      "source": "**Comentários da saída**\n\nO print: Para a população inicial e cada 10.000 transações realizadas, mostramos o indíce Gini e o desvio padrão da população, e a renda para cada um dos 5 primeiros percentils da população (1%, 10%, 50%, 90% e 99%).\n\nO primeiro gráfico: Eles nos aparesenta a mesma informação contida no print, a renda final dos indivíduos em cada percentil, porém com mais pontos no eixo. O azul mais a esquerda é a marcada de 1% e o roxo mais a direita 99%, as linhas representam os percentil em ordem crescente. É fácil verificar que rápidamente os 1% mais ricos (percentil 99%) enriquecem de maneira muito rápida e conforme aproxima-se da transação número 50.000 vai convergindo.\n\nO histograma: Apresenta a população e sua riqueza inicial e final em forma de histograma. \n\nOs resultados estão mostrando que a desigualdade dentro dessa população está aumentando, indíce gini está crescendo, desvio padrão e os pobres ficando mais pobres e os ricos ficando muito ricos. Qual impacto disso sobre outros indicadores da nossa nação teste?\n\nInserir a MAO DO GOVERNO!!! Taxar os ricos e redistribuir a renda de volta na população."
    },
    {
      "metadata": {
        "_uuid": "b5fba2dce494d62782244b43e39559fedd257026"
      },
      "cell_type": "markdown",
      "source": "**Taxações**\n\nVamos tentar melhorar a igualdade na nossa população atráves de políticas de taxações e redistribuição de renda. Vamos começar por taxar os 1% mais ricos e redistribuir essa renda para o resto da população de volta."
    },
    {
      "metadata": {
        "trusted": true,
        "_uuid": "0e0c33f1f89e7e7d01489f56941337725268ecf5"
      },
      "cell_type": "code",
      "source": "ini_pop = pop\nfor ite in range(100):\n    richest =  sorted(pop)[4950:]\n    tax = 0\n    new_richest = []\n    for actor in sorted(richest):\n        new_richest.append(actor * 0.75)\n        tax += actor * 0.25\n\n    pop = pop[:4950] + new_richest\n\n    new_pop = []\n    for actor in pop:\n        actor += tax/len(pop)\n        new_pop.append(actor)\n    pop = new_pop\n\nR = (min(ini_pop+pop), max(ini_pop+pop))\nhist(ini_pop, 'inicio', range=R)\nhist(pop, 'fim', range=R)\n",
      "execution_count": 32,
      "outputs": [
        {
          "output_type": "display_data",
          "data": {
            "text/plain": "<matplotlib.figure.Figure at 0x7f850017de48>",
            "image/png": "[encoded data removed]"
          },
          "metadata": {}
        }
      ]
    },
    {
      "metadata": {
        "_uuid": "bf76c3769b500b2d9035a8a3c52536311c571b8f"
      },
      "cell_type": "markdown",
      "source": "**Resultados**\n\nPodemos ver que ao aplicar taxações conseguimos melhorar muito nosso indíce Gini, acontece que embora a curva se desloque a direita o formato permance muito semelhante"
    },
    {
      "metadata": {
        "_uuid": "9c2230723e3424f78054eeae0431093457c21d28"
      },
      "cell_type": "markdown",
      "source": ""
    },
    {
      "metadata": {
        "_uuid": "f6f735b951069e46bd499de93f32cb420518db71"
      },
      "cell_type": "markdown",
      "source": ""
    }
  ],
  "metadata": {
    "kernelspec": {
      "display_name": "Python 3",
      "language": "python",
      "name": "python3"
    },
    "language_info": {
      "name": "python",
      "version": "3.6.6",
      "mimetype": "text/x-python",
      "codemirror_mode": {
        "name": "ipython",
        "version": 3
      },
      "pygments_lexer": "ipython3",
      "nbconvert_exporter": "python",
      "file_extension": ".py"
    }
  },
  "nbformat": 4,
  "nbformat_minor": 1
}
